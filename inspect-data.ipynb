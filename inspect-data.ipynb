{
 "cells": [
  {
   "cell_type": "code",
   "execution_count": 4,
   "id": "8787285d",
   "metadata": {},
   "outputs": [],
   "source": [
    "import requests\n",
    "import pandas as pd"
   ]
  },
  {
   "cell_type": "code",
   "execution_count": 5,
   "id": "e41f443a",
   "metadata": {},
   "outputs": [
    {
     "name": "stdout",
     "output_type": "stream",
     "text": [
      "https://data.gharchive.org/2021-01-01-1.json.gz\n"
     ]
    }
   ],
   "source": [
    "year = 2021\n",
    "month = \"01\" # 01..12\n",
    "day = \"01\" # 01..31\n",
    "hour = \"1\" # 0..23\n",
    "dataset_file = f\"{year}-{month}-{day}-{hour}\"\n",
    "dataset_url = f\"https://data.gharchive.org/{year}-{month}-{day}-{hour}.json.gz\"\n",
    "print(dataset_url)"
   ]
  },
  {
   "cell_type": "code",
   "execution_count": 7,
   "id": "99ee6f0c",
   "metadata": {},
   "outputs": [],
   "source": [
    "url = requests.get(dataset_url)"
   ]
  },
  {
   "cell_type": "code",
   "execution_count": 18,
   "id": "866813f0",
   "metadata": {},
   "outputs": [],
   "source": [
    "storage_options = {'User-Agent': 'pandas'}"
   ]
  },
  {
   "cell_type": "code",
   "execution_count": 19,
   "id": "78a4bcde",
   "metadata": {},
   "outputs": [],
   "source": [
    "x = pd.read_json(dataset_url, lines=True, storage_options=storage_options, compression=\"gzip\")"
   ]
  },
  {
   "cell_type": "code",
   "execution_count": 20,
   "id": "df37075e",
   "metadata": {},
   "outputs": [
    {
     "name": "stdout",
     "output_type": "stream",
     "text": [
      "<class 'pandas.core.frame.DataFrame'>\n",
      "RangeIndex: 54076 entries, 0 to 54075\n",
      "Data columns (total 8 columns):\n",
      " #   Column      Non-Null Count  Dtype              \n",
      "---  ------      --------------  -----              \n",
      " 0   id          54076 non-null  int64              \n",
      " 1   type        54076 non-null  object             \n",
      " 2   actor       54076 non-null  object             \n",
      " 3   repo        54076 non-null  object             \n",
      " 4   payload     54076 non-null  object             \n",
      " 5   public      54076 non-null  bool               \n",
      " 6   created_at  54076 non-null  datetime64[ns, UTC]\n",
      " 7   org         12684 non-null  object             \n",
      "dtypes: bool(1), datetime64[ns, UTC](1), int64(1), object(5)\n",
      "memory usage: 2.9+ MB\n"
     ]
    }
   ],
   "source": [
    "x.info()"
   ]
  },
  {
   "cell_type": "code",
   "execution_count": 32,
   "id": "182ce927",
   "metadata": {},
   "outputs": [],
   "source": [
    "x[\"created_at\"] = pd.to_datetime(x[\"created_at\"])\n",
    "x[\"id\"] = x[\"id\"].astype(\"Int64\")\n",
    "x[\"type\"] = x[\"type\"].astype(\"string\")"
   ]
  },
  {
   "cell_type": "code",
   "execution_count": 33,
   "id": "f9b24e5c",
   "metadata": {},
   "outputs": [
    {
     "name": "stdout",
     "output_type": "stream",
     "text": [
      "<class 'pandas.core.frame.DataFrame'>\n",
      "RangeIndex: 54076 entries, 0 to 54075\n",
      "Data columns (total 8 columns):\n",
      " #   Column      Non-Null Count  Dtype              \n",
      "---  ------      --------------  -----              \n",
      " 0   id          54076 non-null  Int64              \n",
      " 1   type        54076 non-null  string             \n",
      " 2   actor       54076 non-null  object             \n",
      " 3   repo        54076 non-null  object             \n",
      " 4   payload     54076 non-null  object             \n",
      " 5   public      54076 non-null  bool               \n",
      " 6   created_at  54076 non-null  datetime64[ns, UTC]\n",
      " 7   org         12684 non-null  object             \n",
      "dtypes: Int64(1), bool(1), datetime64[ns, UTC](1), object(4), string(1)\n",
      "memory usage: 3.0+ MB\n"
     ]
    }
   ],
   "source": [
    "x.info()"
   ]
  },
  {
   "cell_type": "code",
   "execution_count": 6,
   "id": "9bfa70de",
   "metadata": {},
   "outputs": [
    {
     "name": "stdout",
     "output_type": "stream",
     "text": [
      "2015-01-01-12.json.gz  2022-12-31-10.json.gz  2023-03-07-23.json.gz\r\n",
      "2020-01-01-12.json.gz  2023-01-08-10.json.gz\r\n",
      "2022-01-01-12.json.gz  2023-03-07-10.json.gz\r\n"
     ]
    }
   ],
   "source": [
    "!ls data"
   ]
  },
  {
   "cell_type": "code",
   "execution_count": 7,
   "id": "05b5360f",
   "metadata": {},
   "outputs": [],
   "source": [
    "df = pd.read_json(\"data/2015-01-01-12.json.gz\", lines=True, compression=\"gzip\")"
   ]
  },
  {
   "cell_type": "code",
   "execution_count": 8,
   "id": "4b2ab39e",
   "metadata": {},
   "outputs": [
    {
     "data": {
      "text/html": [
       "<div>\n",
       "<style scoped>\n",
       "    .dataframe tbody tr th:only-of-type {\n",
       "        vertical-align: middle;\n",
       "    }\n",
       "\n",
       "    .dataframe tbody tr th {\n",
       "        vertical-align: top;\n",
       "    }\n",
       "\n",
       "    .dataframe thead th {\n",
       "        text-align: right;\n",
       "    }\n",
       "</style>\n",
       "<table border=\"1\" class=\"dataframe\">\n",
       "  <thead>\n",
       "    <tr style=\"text-align: right;\">\n",
       "      <th></th>\n",
       "      <th>id</th>\n",
       "      <th>type</th>\n",
       "      <th>actor</th>\n",
       "      <th>repo</th>\n",
       "      <th>payload</th>\n",
       "      <th>public</th>\n",
       "      <th>created_at</th>\n",
       "      <th>org</th>\n",
       "    </tr>\n",
       "  </thead>\n",
       "  <tbody>\n",
       "    <tr>\n",
       "      <th>0</th>\n",
       "      <td>2489582589</td>\n",
       "      <td>WatchEvent</td>\n",
       "      <td>{'id': 1780538, 'login': 'kevinvanhove', 'grav...</td>\n",
       "      <td>{'id': 28624016, 'name': 'kevinvanhove/cssobje...</td>\n",
       "      <td>{'action': 'started'}</td>\n",
       "      <td>True</td>\n",
       "      <td>2015-01-01 12:00:01+00:00</td>\n",
       "      <td>NaN</td>\n",
       "    </tr>\n",
       "    <tr>\n",
       "      <th>1</th>\n",
       "      <td>2489582590</td>\n",
       "      <td>WatchEvent</td>\n",
       "      <td>{'id': 678465, 'login': 'remidewitte', 'gravat...</td>\n",
       "      <td>{'id': 20787122, 'name': 'begriffs/postgrest',...</td>\n",
       "      <td>{'action': 'started'}</td>\n",
       "      <td>True</td>\n",
       "      <td>2015-01-01 12:00:01+00:00</td>\n",
       "      <td>NaN</td>\n",
       "    </tr>\n",
       "    <tr>\n",
       "      <th>2</th>\n",
       "      <td>2489582592</td>\n",
       "      <td>PushEvent</td>\n",
       "      <td>{'id': 1121789, 'login': 'Saisi', 'gravatar_id...</td>\n",
       "      <td>{'id': 25811730, 'name': 'Saisi/secret-octo-wo...</td>\n",
       "      <td>{'push_id': 536834835, 'size': 1, 'distinct_si...</td>\n",
       "      <td>True</td>\n",
       "      <td>2015-01-01 12:00:01+00:00</td>\n",
       "      <td>NaN</td>\n",
       "    </tr>\n",
       "    <tr>\n",
       "      <th>3</th>\n",
       "      <td>2489582593</td>\n",
       "      <td>CreateEvent</td>\n",
       "      <td>{'id': 10254070, 'login': 'ApoorveTyagi', 'gra...</td>\n",
       "      <td>{'id': 28685793, 'name': 'ApoorveTyagi/ATTwoWa...</td>\n",
       "      <td>{'ref': None, 'ref_type': 'repository', 'maste...</td>\n",
       "      <td>True</td>\n",
       "      <td>2015-01-01 12:00:01+00:00</td>\n",
       "      <td>NaN</td>\n",
       "    </tr>\n",
       "    <tr>\n",
       "      <th>4</th>\n",
       "      <td>2489582595</td>\n",
       "      <td>PushEvent</td>\n",
       "      <td>{'id': 4573903, 'login': 'szwacz', 'gravatar_i...</td>\n",
       "      <td>{'id': 12433734, 'name': 'szwacz/sputnik', 'ur...</td>\n",
       "      <td>{'push_id': 536834837, 'size': 6, 'distinct_si...</td>\n",
       "      <td>True</td>\n",
       "      <td>2015-01-01 12:00:01+00:00</td>\n",
       "      <td>NaN</td>\n",
       "    </tr>\n",
       "  </tbody>\n",
       "</table>\n",
       "</div>"
      ],
      "text/plain": [
       "           id         type                                              actor  \\\n",
       "0  2489582589   WatchEvent  {'id': 1780538, 'login': 'kevinvanhove', 'grav...   \n",
       "1  2489582590   WatchEvent  {'id': 678465, 'login': 'remidewitte', 'gravat...   \n",
       "2  2489582592    PushEvent  {'id': 1121789, 'login': 'Saisi', 'gravatar_id...   \n",
       "3  2489582593  CreateEvent  {'id': 10254070, 'login': 'ApoorveTyagi', 'gra...   \n",
       "4  2489582595    PushEvent  {'id': 4573903, 'login': 'szwacz', 'gravatar_i...   \n",
       "\n",
       "                                                repo  \\\n",
       "0  {'id': 28624016, 'name': 'kevinvanhove/cssobje...   \n",
       "1  {'id': 20787122, 'name': 'begriffs/postgrest',...   \n",
       "2  {'id': 25811730, 'name': 'Saisi/secret-octo-wo...   \n",
       "3  {'id': 28685793, 'name': 'ApoorveTyagi/ATTwoWa...   \n",
       "4  {'id': 12433734, 'name': 'szwacz/sputnik', 'ur...   \n",
       "\n",
       "                                             payload  public  \\\n",
       "0                              {'action': 'started'}    True   \n",
       "1                              {'action': 'started'}    True   \n",
       "2  {'push_id': 536834835, 'size': 1, 'distinct_si...    True   \n",
       "3  {'ref': None, 'ref_type': 'repository', 'maste...    True   \n",
       "4  {'push_id': 536834837, 'size': 6, 'distinct_si...    True   \n",
       "\n",
       "                 created_at  org  \n",
       "0 2015-01-01 12:00:01+00:00  NaN  \n",
       "1 2015-01-01 12:00:01+00:00  NaN  \n",
       "2 2015-01-01 12:00:01+00:00  NaN  \n",
       "3 2015-01-01 12:00:01+00:00  NaN  \n",
       "4 2015-01-01 12:00:01+00:00  NaN  "
      ]
     },
     "execution_count": 8,
     "metadata": {},
     "output_type": "execute_result"
    }
   ],
   "source": [
    "df.head()"
   ]
  },
  {
   "cell_type": "code",
   "execution_count": 23,
   "id": "097d8361",
   "metadata": {},
   "outputs": [
    {
     "data": {
      "text/plain": [
       "{'id': 1780538,\n",
       " 'login': 'kevinvanhove',\n",
       " 'gravatar_id': '',\n",
       " 'url': 'https://api.github.com/users/kevinvanhove',\n",
       " 'avatar_url': 'https://avatars.githubusercontent.com/u/1780538?'}"
      ]
     },
     "execution_count": 23,
     "metadata": {},
     "output_type": "execute_result"
    }
   ],
   "source": [
    "df[\"actor\"][0]"
   ]
  },
  {
   "cell_type": "code",
   "execution_count": 24,
   "id": "6ca6c26a",
   "metadata": {},
   "outputs": [
    {
     "data": {
      "text/plain": [
       "{'id': 28624016,\n",
       " 'name': 'kevinvanhove/cssobjects',\n",
       " 'url': 'https://api.github.com/repos/kevinvanhove/cssobjects'}"
      ]
     },
     "execution_count": 24,
     "metadata": {},
     "output_type": "execute_result"
    }
   ],
   "source": [
    "df[\"repo\"][0]"
   ]
  },
  {
   "cell_type": "code",
   "execution_count": 26,
   "id": "04d2e3b6",
   "metadata": {},
   "outputs": [
    {
     "data": {
      "text/plain": [
       "{'push_id': 536834837,\n",
       " 'size': 6,\n",
       " 'distinct_size': 6,\n",
       " 'ref': 'refs/heads/master',\n",
       " 'head': '4a200c7db5726b7a8f6868f1efe7f21be59d2879',\n",
       " 'before': '3b1a63fda1c780c0336907d38506be97ee44008e',\n",
       " 'commits': [{'sha': 'dc954561800d0dfaea80c3a8977c7eb389668a82',\n",
       "   'author': {'email': '1d3764b91b902f6b45836e2498da81fe35caf6d6@szwacz.com',\n",
       "    'name': 'Jakub Szwacz'},\n",
       "   'message': 'Data model migration thrown out',\n",
       "   'distinct': True,\n",
       "   'url': 'https://api.github.com/repos/szwacz/sputnik/commits/dc954561800d0dfaea80c3a8977c7eb389668a82'},\n",
       "  {'sha': '3eb105baea00f2b87a35c7b4acd4ab94920e9fca',\n",
       "   'author': {'email': '1d3764b91b902f6b45836e2498da81fe35caf6d6@szwacz.com',\n",
       "    'name': 'Jakub Szwacz'},\n",
       "   'message': 'Remove no longer needed stuff',\n",
       "   'distinct': True,\n",
       "   'url': 'https://api.github.com/repos/szwacz/sputnik/commits/3eb105baea00f2b87a35c7b4acd4ab94920e9fca'},\n",
       "  {'sha': 'a00d4c7fed5a008055e1858faa72922cbbf418c5',\n",
       "   'author': {'email': '1d3764b91b902f6b45836e2498da81fe35caf6d6@szwacz.com',\n",
       "    'name': 'Jakub Szwacz'},\n",
       "   'message': 'Bye bye tags',\n",
       "   'distinct': True,\n",
       "   'url': 'https://api.github.com/repos/szwacz/sputnik/commits/a00d4c7fed5a008055e1858faa72922cbbf418c5'},\n",
       "  {'sha': '628c6d901a60ddf64214a74cfa1f33cc26c7e402',\n",
       "   'author': {'email': '1d3764b91b902f6b45836e2498da81fe35caf6d6@szwacz.com',\n",
       "    'name': 'Jakub Szwacz'},\n",
       "   'message': 'fix',\n",
       "   'distinct': True,\n",
       "   'url': 'https://api.github.com/repos/szwacz/sputnik/commits/628c6d901a60ddf64214a74cfa1f33cc26c7e402'},\n",
       "  {'sha': '821f362da2980ca0edbd6351e0e382260aa9dcdf',\n",
       "   'author': {'email': '1d3764b91b902f6b45836e2498da81fe35caf6d6@szwacz.com',\n",
       "    'name': 'Jakub Szwacz'},\n",
       "   'message': 'Config amendments',\n",
       "   'distinct': True,\n",
       "   'url': 'https://api.github.com/repos/szwacz/sputnik/commits/821f362da2980ca0edbd6351e0e382260aa9dcdf'},\n",
       "  {'sha': '4a200c7db5726b7a8f6868f1efe7f21be59d2879',\n",
       "   'author': {'email': '1d3764b91b902f6b45836e2498da81fe35caf6d6@szwacz.com',\n",
       "    'name': 'Jakub Szwacz'},\n",
       "   'message': 'App startup',\n",
       "   'distinct': True,\n",
       "   'url': 'https://api.github.com/repos/szwacz/sputnik/commits/4a200c7db5726b7a8f6868f1efe7f21be59d2879'}]}"
      ]
     },
     "execution_count": 26,
     "metadata": {},
     "output_type": "execute_result"
    }
   ],
   "source": [
    "df[\"payload\"][4]"
   ]
  }
 ],
 "metadata": {
  "kernelspec": {
   "display_name": "Python 3 (ipykernel)",
   "language": "python",
   "name": "python3"
  },
  "language_info": {
   "codemirror_mode": {
    "name": "ipython",
    "version": 3
   },
   "file_extension": ".py",
   "mimetype": "text/x-python",
   "name": "python",
   "nbconvert_exporter": "python",
   "pygments_lexer": "ipython3",
   "version": "3.8.10"
  }
 },
 "nbformat": 4,
 "nbformat_minor": 5
}
